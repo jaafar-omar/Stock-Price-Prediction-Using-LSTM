{
  "cells": [
    {
      "cell_type": "markdown",
      "metadata": {
        "colab_type": "text",
        "id": "view-in-github"
      },
      "source": [
        "<a href=\"https://colab.research.google.com/github/034adarsh/Stock-Price-Prediction-Using-LSTM/blob/main/LSTM_model.ipynb\" target=\"_parent\"><img src=\"https://colab.research.google.com/assets/colab-badge.svg\" alt=\"Open In Colab\"/></a>"
      ]
    },
    {
      "cell_type": "markdown",
      "id": "yrU0iWdalVGx",
      "metadata": {
        "id": "yrU0iWdalVGx"
      },
      "source": [
        "# Import all the required libraries\n",
        "\n",
        "---\n",
        "\n"
      ]
    },
    {
      "cell_type": "code",
      "execution_count": 2,
      "id": "4189cf86",
      "metadata": {
        "id": "4189cf86",
        "scrolled": false
      },
      "outputs": [
        {
          "name": "stdout",
          "output_type": "stream",
          "text": [
            "WARNING:tensorflow:From c:\\Users\\Asus\\anaconda3\\envs\\carlcv\\lib\\site-packages\\keras\\src\\losses.py:2976: The name tf.losses.sparse_softmax_cross_entropy is deprecated. Please use tf.compat.v1.losses.sparse_softmax_cross_entropy instead.\n",
            "\n"
          ]
        }
      ],
      "source": [
        "import pandas as pd\n",
        "import datetime as dt\n",
        "from datetime import date\n",
        "import matplotlib.pyplot as plt\n",
        "import yfinance as yf\n",
        "import numpy as np\n",
        "import tensorflow as tf"
      ]
    },
    {
      "cell_type": "markdown",
      "id": "Nij98iZElfyQ",
      "metadata": {
        "id": "Nij98iZElfyQ"
      },
      "source": [
        "# Define start day to fetch the dataset from the yahoo finance library\n",
        "\n",
        "---\n",
        "\n"
      ]
    },
    {
      "cell_type": "code",
      "execution_count": 3,
      "id": "d20a4c49",
      "metadata": {
        "id": "d20a4c49",
        "scrolled": false
      },
      "outputs": [],
      "source": [
        "\n",
        "\n",
        "START = \"2015-01-01\"\n",
        "TODAY = date.today().strftime(\"%Y-%m-%d\")\n",
        "\n",
        "# Define a function to load the dataset\n",
        "\n",
        "def load_data(ticker):\n",
        "    data = yf.download(ticker, START, TODAY)\n",
        "    data.reset_index(inplace=True)\n",
        "    return data"
      ]
    },
    {
      "cell_type": "code",
      "execution_count": 4,
      "id": "c5f71e4e",
      "metadata": {
        "colab": {
          "base_uri": "https://localhost:8080/",
          "height": 224
        },
        "id": "c5f71e4e",
        "outputId": "627e3c55-f7ad-4646-d692-1eda960bd603"
      },
      "outputs": [
        {
          "name": "stderr",
          "output_type": "stream",
          "text": [
            "[*********************100%%**********************]  1 of 1 completed\n"
          ]
        },
        {
          "data": {
            "text/html": [
              "<div>\n",
              "<style scoped>\n",
              "    .dataframe tbody tr th:only-of-type {\n",
              "        vertical-align: middle;\n",
              "    }\n",
              "\n",
              "    .dataframe tbody tr th {\n",
              "        vertical-align: top;\n",
              "    }\n",
              "\n",
              "    .dataframe thead th {\n",
              "        text-align: right;\n",
              "    }\n",
              "</style>\n",
              "<table border=\"1\" class=\"dataframe\">\n",
              "  <thead>\n",
              "    <tr style=\"text-align: right;\">\n",
              "      <th></th>\n",
              "      <th>Date</th>\n",
              "      <th>Open</th>\n",
              "      <th>High</th>\n",
              "      <th>Low</th>\n",
              "      <th>Close</th>\n",
              "      <th>Adj Close</th>\n",
              "      <th>Volume</th>\n",
              "    </tr>\n",
              "  </thead>\n",
              "  <tbody>\n",
              "    <tr>\n",
              "      <th>0</th>\n",
              "      <td>2015-01-02</td>\n",
              "      <td>5.0325</td>\n",
              "      <td>5.0700</td>\n",
              "      <td>4.9525</td>\n",
              "      <td>5.0325</td>\n",
              "      <td>4.832578</td>\n",
              "      <td>11368000</td>\n",
              "    </tr>\n",
              "    <tr>\n",
              "      <th>1</th>\n",
              "      <td>2015-01-05</td>\n",
              "      <td>5.0325</td>\n",
              "      <td>5.0475</td>\n",
              "      <td>4.9250</td>\n",
              "      <td>4.9475</td>\n",
              "      <td>4.750955</td>\n",
              "      <td>19795200</td>\n",
              "    </tr>\n",
              "    <tr>\n",
              "      <th>2</th>\n",
              "      <td>2015-01-06</td>\n",
              "      <td>4.9550</td>\n",
              "      <td>4.9600</td>\n",
              "      <td>4.7925</td>\n",
              "      <td>4.7975</td>\n",
              "      <td>4.606914</td>\n",
              "      <td>19776400</td>\n",
              "    </tr>\n",
              "    <tr>\n",
              "      <th>3</th>\n",
              "      <td>2015-01-07</td>\n",
              "      <td>4.8325</td>\n",
              "      <td>4.8750</td>\n",
              "      <td>4.7700</td>\n",
              "      <td>4.7850</td>\n",
              "      <td>4.594910</td>\n",
              "      <td>32180800</td>\n",
              "    </tr>\n",
              "    <tr>\n",
              "      <th>4</th>\n",
              "      <td>2015-01-08</td>\n",
              "      <td>4.8400</td>\n",
              "      <td>4.9950</td>\n",
              "      <td>4.8375</td>\n",
              "      <td>4.9650</td>\n",
              "      <td>4.767760</td>\n",
              "      <td>28378000</td>\n",
              "    </tr>\n",
              "  </tbody>\n",
              "</table>\n",
              "</div>"
            ],
            "text/plain": [
              "        Date    Open    High     Low   Close  Adj Close    Volume\n",
              "0 2015-01-02  5.0325  5.0700  4.9525  5.0325   4.832578  11368000\n",
              "1 2015-01-05  5.0325  5.0475  4.9250  4.9475   4.750955  19795200\n",
              "2 2015-01-06  4.9550  4.9600  4.7925  4.7975   4.606914  19776400\n",
              "3 2015-01-07  4.8325  4.8750  4.7700  4.7850   4.594910  32180800\n",
              "4 2015-01-08  4.8400  4.9950  4.8375  4.9650   4.767760  28378000"
            ]
          },
          "execution_count": 4,
          "metadata": {},
          "output_type": "execute_result"
        }
      ],
      "source": [
        "data = load_data('NVDA')\n",
        "df=data\n",
        "df.head()"
      ]
    },
    {
      "cell_type": "code",
      "execution_count": 5,
      "id": "c7ec39e4",
      "metadata": {
        "colab": {
          "base_uri": "https://localhost:8080/",
          "height": 206
        },
        "id": "c7ec39e4",
        "outputId": "72ee0443-1c7b-4f9e-ffc2-dde931591f11"
      },
      "outputs": [
        {
          "data": {
            "text/html": [
              "<div>\n",
              "<style scoped>\n",
              "    .dataframe tbody tr th:only-of-type {\n",
              "        vertical-align: middle;\n",
              "    }\n",
              "\n",
              "    .dataframe tbody tr th {\n",
              "        vertical-align: top;\n",
              "    }\n",
              "\n",
              "    .dataframe thead th {\n",
              "        text-align: right;\n",
              "    }\n",
              "</style>\n",
              "<table border=\"1\" class=\"dataframe\">\n",
              "  <thead>\n",
              "    <tr style=\"text-align: right;\">\n",
              "      <th></th>\n",
              "      <th>Open</th>\n",
              "      <th>High</th>\n",
              "      <th>Low</th>\n",
              "      <th>Close</th>\n",
              "      <th>Volume</th>\n",
              "    </tr>\n",
              "  </thead>\n",
              "  <tbody>\n",
              "    <tr>\n",
              "      <th>0</th>\n",
              "      <td>5.0325</td>\n",
              "      <td>5.0700</td>\n",
              "      <td>4.9525</td>\n",
              "      <td>5.0325</td>\n",
              "      <td>11368000</td>\n",
              "    </tr>\n",
              "    <tr>\n",
              "      <th>1</th>\n",
              "      <td>5.0325</td>\n",
              "      <td>5.0475</td>\n",
              "      <td>4.9250</td>\n",
              "      <td>4.9475</td>\n",
              "      <td>19795200</td>\n",
              "    </tr>\n",
              "    <tr>\n",
              "      <th>2</th>\n",
              "      <td>4.9550</td>\n",
              "      <td>4.9600</td>\n",
              "      <td>4.7925</td>\n",
              "      <td>4.7975</td>\n",
              "      <td>19776400</td>\n",
              "    </tr>\n",
              "    <tr>\n",
              "      <th>3</th>\n",
              "      <td>4.8325</td>\n",
              "      <td>4.8750</td>\n",
              "      <td>4.7700</td>\n",
              "      <td>4.7850</td>\n",
              "      <td>32180800</td>\n",
              "    </tr>\n",
              "    <tr>\n",
              "      <th>4</th>\n",
              "      <td>4.8400</td>\n",
              "      <td>4.9950</td>\n",
              "      <td>4.8375</td>\n",
              "      <td>4.9650</td>\n",
              "      <td>28378000</td>\n",
              "    </tr>\n",
              "  </tbody>\n",
              "</table>\n",
              "</div>"
            ],
            "text/plain": [
              "     Open    High     Low   Close    Volume\n",
              "0  5.0325  5.0700  4.9525  5.0325  11368000\n",
              "1  5.0325  5.0475  4.9250  4.9475  19795200\n",
              "2  4.9550  4.9600  4.7925  4.7975  19776400\n",
              "3  4.8325  4.8750  4.7700  4.7850  32180800\n",
              "4  4.8400  4.9950  4.8375  4.9650  28378000"
            ]
          },
          "execution_count": 5,
          "metadata": {},
          "output_type": "execute_result"
        }
      ],
      "source": [
        "df = df.drop(['Date', 'Adj Close'], axis = 1)\n",
        "df.head()"
      ]
    },
    {
      "cell_type": "code",
      "execution_count": 6,
      "id": "0707b26a",
      "metadata": {
        "colab": {
          "base_uri": "https://localhost:8080/",
          "height": 470
        },
        "id": "0707b26a",
        "outputId": "eaf32986-f474-41b6-effa-508e27b5bb5c",
        "scrolled": true
      },
      "outputs": [
        {
          "data": {
            "text/plain": [
              "[<matplotlib.lines.Line2D at 0x1ad9d055000>]"
            ]
          },
          "execution_count": 6,
          "metadata": {},
          "output_type": "execute_result"
        },
        {
          "data": {
            "image/png": "[encoded data removed]",
            "text/plain": [
              "<Figure size 640x480 with 1 Axes>"
            ]
          },
          "metadata": {},
          "output_type": "display_data"
        }
      ],
      "source": [
        "plt.title(\"Close Price Visualization\")\n",
        "plt.plot(df.Close)"
      ]
    },
    {
      "cell_type": "code",
      "execution_count": 7,
      "id": "73888072",
      "metadata": {
        "colab": {
          "base_uri": "https://localhost:8080/",
          "height": 424
        },
        "id": "73888072",
        "outputId": "00dc415f-edf2-48f4-92b0-ee71f4042112"
      },
      "outputs": [
        {
          "data": {
            "text/html": [
              "<div>\n",
              "<style scoped>\n",
              "    .dataframe tbody tr th:only-of-type {\n",
              "        vertical-align: middle;\n",
              "    }\n",
              "\n",
              "    .dataframe tbody tr th {\n",
              "        vertical-align: top;\n",
              "    }\n",
              "\n",
              "    .dataframe thead th {\n",
              "        text-align: right;\n",
              "    }\n",
              "</style>\n",
              "<table border=\"1\" class=\"dataframe\">\n",
              "  <thead>\n",
              "    <tr style=\"text-align: right;\">\n",
              "      <th></th>\n",
              "      <th>Open</th>\n",
              "      <th>High</th>\n",
              "      <th>Low</th>\n",
              "      <th>Close</th>\n",
              "      <th>Volume</th>\n",
              "    </tr>\n",
              "  </thead>\n",
              "  <tbody>\n",
              "    <tr>\n",
              "      <th>0</th>\n",
              "      <td>5.032500</td>\n",
              "      <td>5.070000</td>\n",
              "      <td>4.952500</td>\n",
              "      <td>5.032500</td>\n",
              "      <td>11368000</td>\n",
              "    </tr>\n",
              "    <tr>\n",
              "      <th>1</th>\n",
              "      <td>5.032500</td>\n",
              "      <td>5.047500</td>\n",
              "      <td>4.925000</td>\n",
              "      <td>4.947500</td>\n",
              "      <td>19795200</td>\n",
              "    </tr>\n",
              "    <tr>\n",
              "      <th>2</th>\n",
              "      <td>4.955000</td>\n",
              "      <td>4.960000</td>\n",
              "      <td>4.792500</td>\n",
              "      <td>4.797500</td>\n",
              "      <td>19776400</td>\n",
              "    </tr>\n",
              "    <tr>\n",
              "      <th>3</th>\n",
              "      <td>4.832500</td>\n",
              "      <td>4.875000</td>\n",
              "      <td>4.770000</td>\n",
              "      <td>4.785000</td>\n",
              "      <td>32180800</td>\n",
              "    </tr>\n",
              "    <tr>\n",
              "      <th>4</th>\n",
              "      <td>4.840000</td>\n",
              "      <td>4.995000</td>\n",
              "      <td>4.837500</td>\n",
              "      <td>4.965000</td>\n",
              "      <td>28378000</td>\n",
              "    </tr>\n",
              "    <tr>\n",
              "      <th>...</th>\n",
              "      <td>...</td>\n",
              "      <td>...</td>\n",
              "      <td>...</td>\n",
              "      <td>...</td>\n",
              "      <td>...</td>\n",
              "    </tr>\n",
              "    <tr>\n",
              "      <th>2335</th>\n",
              "      <td>890.979980</td>\n",
              "      <td>906.130005</td>\n",
              "      <td>859.289978</td>\n",
              "      <td>860.010010</td>\n",
              "      <td>44307700</td>\n",
              "    </tr>\n",
              "    <tr>\n",
              "      <th>2336</th>\n",
              "      <td>864.330017</td>\n",
              "      <td>881.179993</td>\n",
              "      <td>860.640015</td>\n",
              "      <td>874.150024</td>\n",
              "      <td>37045300</td>\n",
              "    </tr>\n",
              "    <tr>\n",
              "      <th>2337</th>\n",
              "      <td>883.400024</td>\n",
              "      <td>887.750000</td>\n",
              "      <td>839.500000</td>\n",
              "      <td>840.349976</td>\n",
              "      <td>49540000</td>\n",
              "    </tr>\n",
              "    <tr>\n",
              "      <th>2338</th>\n",
              "      <td>849.700012</td>\n",
              "      <td>861.900024</td>\n",
              "      <td>824.020020</td>\n",
              "      <td>846.710022</td>\n",
              "      <td>44726000</td>\n",
              "    </tr>\n",
              "    <tr>\n",
              "      <th>2339</th>\n",
              "      <td>831.500000</td>\n",
              "      <td>843.239990</td>\n",
              "      <td>756.059998</td>\n",
              "      <td>762.000000</td>\n",
              "      <td>87190500</td>\n",
              "    </tr>\n",
              "  </tbody>\n",
              "</table>\n",
              "<p>2340 rows × 5 columns</p>\n",
              "</div>"
            ],
            "text/plain": [
              "            Open        High         Low       Close    Volume\n",
              "0       5.032500    5.070000    4.952500    5.032500  11368000\n",
              "1       5.032500    5.047500    4.925000    4.947500  19795200\n",
              "2       4.955000    4.960000    4.792500    4.797500  19776400\n",
              "3       4.832500    4.875000    4.770000    4.785000  32180800\n",
              "4       4.840000    4.995000    4.837500    4.965000  28378000\n",
              "...          ...         ...         ...         ...       ...\n",
              "2335  890.979980  906.130005  859.289978  860.010010  44307700\n",
              "2336  864.330017  881.179993  860.640015  874.150024  37045300\n",
              "2337  883.400024  887.750000  839.500000  840.349976  49540000\n",
              "2338  849.700012  861.900024  824.020020  846.710022  44726000\n",
              "2339  831.500000  843.239990  756.059998  762.000000  87190500\n",
              "\n",
              "[2340 rows x 5 columns]"
            ]
          },
          "execution_count": 7,
          "metadata": {},
          "output_type": "execute_result"
        }
      ],
      "source": [
        "df"
      ]
    },
    {
      "cell_type": "markdown",
      "id": "UMkTEOfBlzte",
      "metadata": {
        "id": "UMkTEOfBlzte"
      },
      "source": [
        "# Plotting moving averages of 100 day\n",
        "\n",
        "---\n",
        "\n"
      ]
    },
    {
      "cell_type": "code",
      "execution_count": 8,
      "id": "114d2e0c",
      "metadata": {
        "colab": {
          "base_uri": "https://localhost:8080/"
        },
        "id": "114d2e0c",
        "outputId": "734fff73-936a-4bab-a8ad-351c8bd2ca8e"
      },
      "outputs": [
        {
          "data": {
            "text/plain": [
              "0              NaN\n",
              "1              NaN\n",
              "2              NaN\n",
              "3              NaN\n",
              "4              NaN\n",
              "           ...    \n",
              "2335    673.755199\n",
              "2336    677.455800\n",
              "2337    680.864899\n",
              "2338    684.460399\n",
              "2339    687.302799\n",
              "Name: Close, Length: 2340, dtype: float64"
            ]
          },
          "execution_count": 8,
          "metadata": {},
          "output_type": "execute_result"
        }
      ],
      "source": [
        "ma100 = df.Close.rolling(100).mean()\n",
        "ma100"
      ]
    },
    {
      "cell_type": "code",
      "execution_count": 9,
      "id": "e2f6b740",
      "metadata": {
        "colab": {
          "base_uri": "https://localhost:8080/",
          "height": 563
        },
        "id": "e2f6b740",
        "outputId": "b108baa8-775f-4709-f7d3-8c8eabbc0028"
      },
      "outputs": [
        {
          "data": {
            "text/plain": [
              "Text(0.5, 1.0, 'Graph Of Moving Averages Of 100 Days')"
            ]
          },
          "execution_count": 9,
          "metadata": {},
          "output_type": "execute_result"
        },
        {
          "data": {
            "image/png": "[encoded data removed]",
            "text/plain": [
              "<Figure size 1200x600 with 1 Axes>"
            ]
          },
          "metadata": {},
          "output_type": "display_data"
        }
      ],
      "source": [
        "plt.figure(figsize = (12,6))\n",
        "plt.plot(df.Close)\n",
        "plt.plot(ma100, 'r')\n",
        "plt.title('Graph Of Moving Averages Of 100 Days')"
      ]
    },
    {
      "cell_type": "markdown",
      "id": "LQKvGsXwmN65",
      "metadata": {
        "id": "LQKvGsXwmN65"
      },
      "source": [
        "# Defining 200 days moving averages and plotting comparision graph with 100 days moving averages\n",
        "\n",
        "---\n",
        "\n"
      ]
    },
    {
      "cell_type": "code",
      "execution_count": 10,
      "id": "46c89811",
      "metadata": {
        "colab": {
          "base_uri": "https://localhost:8080/"
        },
        "id": "46c89811",
        "outputId": "6520dee7-6658-4a24-8f8f-7144aed4df59"
      },
      "outputs": [
        {
          "data": {
            "text/plain": [
              "0             NaN\n",
              "1             NaN\n",
              "2             NaN\n",
              "3             NaN\n",
              "4             NaN\n",
              "          ...    \n",
              "2335    560.67860\n",
              "2336    563.00825\n",
              "2337    565.09490\n",
              "2338    567.20780\n",
              "2339    568.90195\n",
              "Name: Close, Length: 2340, dtype: float64"
            ]
          },
          "execution_count": 10,
          "metadata": {},
          "output_type": "execute_result"
        }
      ],
      "source": [
        "ma200 = df.Close.rolling(200).mean()\n",
        "ma200"
      ]
    },
    {
      "cell_type": "code",
      "execution_count": 11,
      "id": "d7c0ce2e",
      "metadata": {
        "colab": {
          "base_uri": "https://localhost:8080/",
          "height": 563
        },
        "id": "d7c0ce2e",
        "outputId": "78eea70a-f8e6-4e59-a1de-838e5f283551"
      },
      "outputs": [
        {
          "data": {
            "text/plain": [
              "Text(0.5, 1.0, 'Comparision Of 100 Days And 200 Days Moving Averages')"
            ]
          },
          "execution_count": 11,
          "metadata": {},
          "output_type": "execute_result"
        },
        {
          "data": {
            "image/png": "[encoded data removed]",
            "text/plain": [
              "<Figure size 1200x600 with 1 Axes>"
            ]
          },
          "metadata": {},
          "output_type": "display_data"
        }
      ],
      "source": [
        "plt.figure(figsize = (12,6))\n",
        "plt.plot(df.Close)\n",
        "plt.plot(ma100, 'r')\n",
        "plt.plot(ma200, 'g')\n",
        "plt.title('Comparision Of 100 Days And 200 Days Moving Averages')"
      ]
    },
    {
      "cell_type": "code",
      "execution_count": 12,
      "id": "45a099a7",
      "metadata": {
        "colab": {
          "base_uri": "https://localhost:8080/"
        },
        "id": "45a099a7",
        "outputId": "6ee85271-92fd-4b96-9176-15e36e707b99"
      },
      "outputs": [
        {
          "data": {
            "text/plain": [
              "(2090, 5)"
            ]
          },
          "execution_count": 12,
          "metadata": {},
          "output_type": "execute_result"
        }
      ],
      "source": [
        "df.shape"
      ]
    },
    {
      "cell_type": "markdown",
      "id": "bCw5fsrlmfpm",
      "metadata": {
        "id": "bCw5fsrlmfpm"
      },
      "source": [
        "# Spliting the dataset into training (70%) and testing (30%) set"
      ]
    },
    {
      "cell_type": "code",
      "execution_count": 13,
      "id": "9610c5fc",
      "metadata": {
        "colab": {
          "base_uri": "https://localhost:8080/"
        },
        "id": "9610c5fc",
        "outputId": "23512f81-bb65-4fab-c31c-dca219041ec5"
      },
      "outputs": [
        {
          "name": "stdout",
          "output_type": "stream",
          "text": [
            "(1638, 7)\n",
            "(702, 7)\n"
          ]
        }
      ],
      "source": [
        "# Splitting data into training and testing\n",
        "\n",
        "train = pd.DataFrame(data[0:int(len(data)*0.70)])\n",
        "test = pd.DataFrame(data[int(len(data)*0.70): int(len(data))])\n",
        "\n",
        "print(train.shape)\n",
        "print(test.shape)"
      ]
    },
    {
      "cell_type": "code",
      "execution_count": 14,
      "id": "2cb33dc0",
      "metadata": {
        "colab": {
          "base_uri": "https://localhost:8080/",
          "height": 206
        },
        "id": "2cb33dc0",
        "outputId": "403e717e-3fca-4880-8454-988eb9cfc1c4"
      },
      "outputs": [
        {
          "data": {
            "text/html": [
              "<div>\n",
              "<style scoped>\n",
              "    .dataframe tbody tr th:only-of-type {\n",
              "        vertical-align: middle;\n",
              "    }\n",
              "\n",
              "    .dataframe tbody tr th {\n",
              "        vertical-align: top;\n",
              "    }\n",
              "\n",
              "    .dataframe thead th {\n",
              "        text-align: right;\n",
              "    }\n",
              "</style>\n",
              "<table border=\"1\" class=\"dataframe\">\n",
              "  <thead>\n",
              "    <tr style=\"text-align: right;\">\n",
              "      <th></th>\n",
              "      <th>Date</th>\n",
              "      <th>Open</th>\n",
              "      <th>High</th>\n",
              "      <th>Low</th>\n",
              "      <th>Close</th>\n",
              "      <th>Adj Close</th>\n",
              "      <th>Volume</th>\n",
              "    </tr>\n",
              "  </thead>\n",
              "  <tbody>\n",
              "    <tr>\n",
              "      <th>0</th>\n",
              "      <td>2015-01-02</td>\n",
              "      <td>5.0325</td>\n",
              "      <td>5.0700</td>\n",
              "      <td>4.9525</td>\n",
              "      <td>5.0325</td>\n",
              "      <td>4.832578</td>\n",
              "      <td>11368000</td>\n",
              "    </tr>\n",
              "    <tr>\n",
              "      <th>1</th>\n",
              "      <td>2015-01-05</td>\n",
              "      <td>5.0325</td>\n",
              "      <td>5.0475</td>\n",
              "      <td>4.9250</td>\n",
              "      <td>4.9475</td>\n",
              "      <td>4.750955</td>\n",
              "      <td>19795200</td>\n",
              "    </tr>\n",
              "    <tr>\n",
              "      <th>2</th>\n",
              "      <td>2015-01-06</td>\n",
              "      <td>4.9550</td>\n",
              "      <td>4.9600</td>\n",
              "      <td>4.7925</td>\n",
              "      <td>4.7975</td>\n",
              "      <td>4.606914</td>\n",
              "      <td>19776400</td>\n",
              "    </tr>\n",
              "    <tr>\n",
              "      <th>3</th>\n",
              "      <td>2015-01-07</td>\n",
              "      <td>4.8325</td>\n",
              "      <td>4.8750</td>\n",
              "      <td>4.7700</td>\n",
              "      <td>4.7850</td>\n",
              "      <td>4.594910</td>\n",
              "      <td>32180800</td>\n",
              "    </tr>\n",
              "    <tr>\n",
              "      <th>4</th>\n",
              "      <td>2015-01-08</td>\n",
              "      <td>4.8400</td>\n",
              "      <td>4.9950</td>\n",
              "      <td>4.8375</td>\n",
              "      <td>4.9650</td>\n",
              "      <td>4.767760</td>\n",
              "      <td>28378000</td>\n",
              "    </tr>\n",
              "  </tbody>\n",
              "</table>\n",
              "</div>"
            ],
            "text/plain": [
              "        Date    Open    High     Low   Close  Adj Close    Volume\n",
              "0 2015-01-02  5.0325  5.0700  4.9525  5.0325   4.832578  11368000\n",
              "1 2015-01-05  5.0325  5.0475  4.9250  4.9475   4.750955  19795200\n",
              "2 2015-01-06  4.9550  4.9600  4.7925  4.7975   4.606914  19776400\n",
              "3 2015-01-07  4.8325  4.8750  4.7700  4.7850   4.594910  32180800\n",
              "4 2015-01-08  4.8400  4.9950  4.8375  4.9650   4.767760  28378000"
            ]
          },
          "execution_count": 14,
          "metadata": {},
          "output_type": "execute_result"
        }
      ],
      "source": [
        "train.head()"
      ]
    },
    {
      "cell_type": "code",
      "execution_count": 15,
      "id": "91f5ef8b",
      "metadata": {
        "colab": {
          "base_uri": "https://localhost:8080/",
          "height": 206
        },
        "id": "91f5ef8b",
        "outputId": "a3241f79-660f-48b0-9ffa-e67d05710615"
      },
      "outputs": [
        {
          "data": {
            "text/html": [
              "<div>\n",
              "<style scoped>\n",
              "    .dataframe tbody tr th:only-of-type {\n",
              "        vertical-align: middle;\n",
              "    }\n",
              "\n",
              "    .dataframe tbody tr th {\n",
              "        vertical-align: top;\n",
              "    }\n",
              "\n",
              "    .dataframe thead th {\n",
              "        text-align: right;\n",
              "    }\n",
              "</style>\n",
              "<table border=\"1\" class=\"dataframe\">\n",
              "  <thead>\n",
              "    <tr style=\"text-align: right;\">\n",
              "      <th></th>\n",
              "      <th>Date</th>\n",
              "      <th>Open</th>\n",
              "      <th>High</th>\n",
              "      <th>Low</th>\n",
              "      <th>Close</th>\n",
              "      <th>Adj Close</th>\n",
              "      <th>Volume</th>\n",
              "    </tr>\n",
              "  </thead>\n",
              "  <tbody>\n",
              "    <tr>\n",
              "      <th>1638</th>\n",
              "      <td>2021-07-07</td>\n",
              "      <td>208.535004</td>\n",
              "      <td>208.750000</td>\n",
              "      <td>203.320007</td>\n",
              "      <td>203.717499</td>\n",
              "      <td>203.366592</td>\n",
              "      <td>41842800</td>\n",
              "    </tr>\n",
              "    <tr>\n",
              "      <th>1639</th>\n",
              "      <td>2021-07-08</td>\n",
              "      <td>198.565002</td>\n",
              "      <td>201.330002</td>\n",
              "      <td>197.007507</td>\n",
              "      <td>199.027496</td>\n",
              "      <td>198.684692</td>\n",
              "      <td>50330000</td>\n",
              "    </tr>\n",
              "    <tr>\n",
              "      <th>1640</th>\n",
              "      <td>2021-07-09</td>\n",
              "      <td>199.625000</td>\n",
              "      <td>200.802505</td>\n",
              "      <td>197.542496</td>\n",
              "      <td>200.502502</td>\n",
              "      <td>200.157150</td>\n",
              "      <td>29662400</td>\n",
              "    </tr>\n",
              "    <tr>\n",
              "      <th>1641</th>\n",
              "      <td>2021-07-12</td>\n",
              "      <td>202.399994</td>\n",
              "      <td>205.327499</td>\n",
              "      <td>201.877502</td>\n",
              "      <td>205.125000</td>\n",
              "      <td>204.771667</td>\n",
              "      <td>32198400</td>\n",
              "    </tr>\n",
              "    <tr>\n",
              "      <th>1642</th>\n",
              "      <td>2021-07-13</td>\n",
              "      <td>204.005005</td>\n",
              "      <td>204.612503</td>\n",
              "      <td>201.139999</td>\n",
              "      <td>202.500000</td>\n",
              "      <td>202.151199</td>\n",
              "      <td>29070800</td>\n",
              "    </tr>\n",
              "  </tbody>\n",
              "</table>\n",
              "</div>"
            ],
            "text/plain": [
              "           Date        Open        High         Low       Close   Adj Close  \\\n",
              "1638 2021-07-07  208.535004  208.750000  203.320007  203.717499  203.366592   \n",
              "1639 2021-07-08  198.565002  201.330002  197.007507  199.027496  198.684692   \n",
              "1640 2021-07-09  199.625000  200.802505  197.542496  200.502502  200.157150   \n",
              "1641 2021-07-12  202.399994  205.327499  201.877502  205.125000  204.771667   \n",
              "1642 2021-07-13  204.005005  204.612503  201.139999  202.500000  202.151199   \n",
              "\n",
              "        Volume  \n",
              "1638  41842800  \n",
              "1639  50330000  \n",
              "1640  29662400  \n",
              "1641  32198400  \n",
              "1642  29070800  "
            ]
          },
          "execution_count": 15,
          "metadata": {},
          "output_type": "execute_result"
        }
      ],
      "source": [
        "test.head()"
      ]
    },
    {
      "cell_type": "markdown",
      "id": "-a818gdwm_WV",
      "metadata": {
        "id": "-a818gdwm_WV"
      },
      "source": [
        "# Using MinMax scaler for normalization of the dataset\n",
        "\n",
        "---\n",
        "\n"
      ]
    },
    {
      "cell_type": "code",
      "execution_count": 16,
      "id": "01f04df7",
      "metadata": {
        "id": "01f04df7"
      },
      "outputs": [],
      "source": [
        "from sklearn.preprocessing import MinMaxScaler\n",
        "scaler = MinMaxScaler(feature_range=(0,1))"
      ]
    },
    {
      "cell_type": "code",
      "execution_count": 19,
      "id": "53oSB51dB6Tw",
      "metadata": {
        "id": "53oSB51dB6Tw"
      },
      "outputs": [],
      "source": [
        "train_close = train.iloc[:, 4:5].values\n",
        "test_close = test.iloc[:, 4:5].values"
      ]
    },
    {
      "cell_type": "code",
      "execution_count": 20,
      "id": "d97e7ff8",
      "metadata": {
        "colab": {
          "base_uri": "https://localhost:8080/"
        },
        "id": "d97e7ff8",
        "outputId": "8bf8560a-d7ec-4797-a55a-a8c7bb7720d9"
      },
      "outputs": [
        {
          "data": {
            "text/plain": [
              "array([[1.22403532e-03],\n",
              "       [8.03661626e-04],\n",
              "       [6.18213949e-05],\n",
              "       ...,\n",
              "       [9.75939637e-01],\n",
              "       [9.89540032e-01],\n",
              "       [1.00000000e+00]])"
            ]
          },
          "execution_count": 20,
          "metadata": {},
          "output_type": "execute_result"
        }
      ],
      "source": [
        "data_training_array = scaler.fit_transform(train_close)\n",
        "data_training_array"
      ]
    },
    {
      "cell_type": "code",
      "execution_count": 21,
      "id": "10227978",
      "metadata": {
        "id": "10227978"
      },
      "outputs": [],
      "source": [
        "x_train = []\n",
        "y_train = [] \n",
        "\n",
        "for i in range(100, data_training_array.shape[0]):\n",
        "    x_train.append(data_training_array[i-100: i])\n",
        "    y_train.append(data_training_array[i, 0])\n",
        "\n",
        "x_train, y_train = np.array(x_train), np.array(y_train) "
      ]
    },
    {
      "cell_type": "code",
      "execution_count": 22,
      "id": "0ea6446e",
      "metadata": {
        "colab": {
          "base_uri": "https://localhost:8080/"
        },
        "id": "0ea6446e",
        "outputId": "d7be262a-4cd6-4bbf-9f50-a13e111cc2ac"
      },
      "outputs": [
        {
          "data": {
            "text/plain": [
              "(1538, 100, 1)"
            ]
          },
          "execution_count": 22,
          "metadata": {},
          "output_type": "execute_result"
        }
      ],
      "source": [
        "x_train.shape"
      ]
    },
    {
      "cell_type": "markdown",
      "id": "dsMIlQ8DnVOJ",
      "metadata": {
        "id": "dsMIlQ8DnVOJ"
      },
      "source": [
        "# ML Model (LSTM)\n",
        "\n",
        "---\n",
        "\n"
      ]
    },
    {
      "cell_type": "code",
      "execution_count": 23,
      "id": "e60ed317",
      "metadata": {
        "id": "e60ed317"
      },
      "outputs": [],
      "source": [
        "from tensorflow.keras.layers import Dense, Dropout, LSTM\n",
        "from tensorflow.keras.models import Sequential"
      ]
    },
    {
      "cell_type": "code",
      "execution_count": 24,
      "id": "17082610",
      "metadata": {
        "colab": {
          "base_uri": "https://localhost:8080/"
        },
        "id": "17082610",
        "outputId": "1bdf1b3b-dc08-4afe-9b51-d12fb3f1a874"
      },
      "outputs": [
        {
          "name": "stdout",
          "output_type": "stream",
          "text": [
            "WARNING:tensorflow:From c:\\Users\\Asus\\anaconda3\\envs\\carlcv\\lib\\site-packages\\keras\\src\\backend.py:873: The name tf.get_default_graph is deprecated. Please use tf.compat.v1.get_default_graph instead.\n",
            "\n"
          ]
        }
      ],
      "source": [
        "model = Sequential()\n",
        "model.add(LSTM(units = 50, activation = 'relu', return_sequences=True\n",
        "              ,input_shape = (x_train.shape[1], 1)))\n",
        "model.add(Dropout(0.2))\n",
        "\n",
        "\n",
        "model.add(LSTM(units = 60, activation = 'relu', return_sequences=True))\n",
        "model.add(Dropout(0.3))\n",
        "\n",
        "\n",
        "model.add(LSTM(units = 80, activation = 'relu', return_sequences=True))\n",
        "model.add(Dropout(0.4))\n",
        "\n",
        "\n",
        "model.add(LSTM(units = 120, activation = 'relu'))\n",
        "model.add(Dropout(0.5))\n",
        "\n",
        "model.add(Dense(units = 1))"
      ]
    },
    {
      "cell_type": "code",
      "execution_count": 26,
      "id": "5f5a1db3",
      "metadata": {
        "colab": {
          "base_uri": "https://localhost:8080/"
        },
        "id": "5f5a1db3",
        "outputId": "fa46e211-69af-428f-beb2-73283a533bab"
      },
      "outputs": [
        {
          "name": "stdout",
          "output_type": "stream",
          "text": [
            "Model: \"sequential\"\n",
            "_________________________________________________________________\n",
            " Layer (type)                Output Shape              Param #   \n",
            "=================================================================\n",
            " lstm (LSTM)                 (None, 100, 50)           10400     \n",
            "                                                                 \n",
            " dropout (Dropout)           (None, 100, 50)           0         \n",
            "                                                                 \n",
            " lstm_1 (LSTM)               (None, 100, 60)           26640     \n",
            "                                                                 \n",
            " dropout_1 (Dropout)         (None, 100, 60)           0         \n",
            "                                                                 \n",
            " lstm_2 (LSTM)               (None, 100, 80)           45120     \n",
            "                                                                 \n",
            " dropout_2 (Dropout)         (None, 100, 80)           0         \n",
            "                                                                 \n",
            " lstm_3 (LSTM)               (None, 120)               96480     \n",
            "                                                                 \n",
            " dropout_3 (Dropout)         (None, 120)               0         \n",
            "                                                                 \n",
            " dense (Dense)               (None, 1)                 121       \n",
            "                                                                 \n",
            "=================================================================\n",
            "Total params: 178761 (698.29 KB)\n",
            "Trainable params: 178761 (698.29 KB)\n",
            "Non-trainable params: 0 (0.00 Byte)\n",
            "_________________________________________________________________\n"
          ]
        }
      ],
      "source": [
        "model.summary()"
      ]
    },
    {
      "cell_type": "markdown",
      "id": "KgEnUfCnn_1r",
      "metadata": {
        "id": "KgEnUfCnn_1r"
      },
      "source": [
        "# Training the model\n",
        "\n",
        "---\n",
        "\n"
      ]
    },
    {
      "cell_type": "code",
      "execution_count": 27,
      "id": "1d0c9b64",
      "metadata": {
        "colab": {
          "base_uri": "https://localhost:8080/"
        },
        "id": "1d0c9b64",
        "outputId": "6461b746-dd3a-443f-b303-d085ba34acc2",
        "scrolled": false
      },
      "outputs": [
        {
          "ename": "NameError",
          "evalue": "name 'x_test' is not defined",
          "output_type": "error",
          "traceback": [
            "\u001b[1;31m---------------------------------------------------------------------------\u001b[0m",
            "\u001b[1;31mNameError\u001b[0m                                 Traceback (most recent call last)",
            "Cell \u001b[1;32mIn[27], line 2\u001b[0m\n\u001b[0;32m      1\u001b[0m model\u001b[38;5;241m.\u001b[39mcompile(optimizer \u001b[38;5;241m=\u001b[39m \u001b[38;5;124m'\u001b[39m\u001b[38;5;124madam\u001b[39m\u001b[38;5;124m'\u001b[39m, loss \u001b[38;5;241m=\u001b[39m \u001b[38;5;124m'\u001b[39m\u001b[38;5;124mmean_squared_error\u001b[39m\u001b[38;5;124m'\u001b[39m, metrics \u001b[38;5;241m=\u001b[39m [\u001b[38;5;124m'\u001b[39m\u001b[38;5;124mMAE\u001b[39m\u001b[38;5;124m'\u001b[39m])\n\u001b[1;32m----> 2\u001b[0m model\u001b[38;5;241m.\u001b[39mfit(x_train, y_train, validation_data \u001b[38;5;241m=\u001b[39m (\u001b[43mx_test\u001b[49m, y_test) ,epochs \u001b[38;5;241m=\u001b[39m \u001b[38;5;241m50\u001b[39m)\n",
            "\u001b[1;31mNameError\u001b[0m: name 'x_test' is not defined"
          ]
        }
      ],
      "source": [
        "model.compile(optimizer = 'adam', loss = 'mean_squared_error', metrics = ['MAE'])\n",
        "model.fit(x_train, y_train, validation_data = (x_test, y_test) ,epochs = 50)"
      ]
    },
    {
      "cell_type": "code",
      "execution_count": 42,
      "id": "zG1W6DhzI-hP",
      "metadata": {
        "id": "zG1W6DhzI-hP"
      },
      "outputs": [],
      "source": [
        "model.save('keras_model.h5')"
      ]
    },
    {
      "cell_type": "code",
      "execution_count": null,
      "id": "khcKI1sSJSJB",
      "metadata": {
        "id": "khcKI1sSJSJB"
      },
      "outputs": [],
      "source": [
        "\n",
        "test_close.shape\n",
        "test_close"
      ]
    },
    {
      "cell_type": "code",
      "execution_count": 54,
      "id": "6QyF-7KbKaGt",
      "metadata": {
        "id": "6QyF-7KbKaGt"
      },
      "outputs": [],
      "source": [
        "past_100_days = pd.DataFrame(train_close[-100:])"
      ]
    },
    {
      "cell_type": "code",
      "execution_count": 55,
      "id": "pKsjLCyGLuOz",
      "metadata": {
        "id": "pKsjLCyGLuOz"
      },
      "outputs": [],
      "source": [
        "test_df = pd.DataFrame(test_close)"
      ]
    },
    {
      "cell_type": "markdown",
      "id": "d9ZKAzB8oKXJ",
      "metadata": {
        "id": "d9ZKAzB8oKXJ"
      },
      "source": [
        "**Defining the final dataset for testing by including last 100 coloums of the training dataset to get the prediction from the 1st column of the testing dataset.**\n",
        "\n",
        "---\n"
      ]
    },
    {
      "cell_type": "code",
      "execution_count": 56,
      "id": "UUapqTcVLOj-",
      "metadata": {
        "colab": {
          "base_uri": "https://localhost:8080/"
        },
        "id": "UUapqTcVLOj-",
        "outputId": "574ac38d-9500-4d04-a59c-63b999af43d5"
      },
      "outputs": [
        {
          "name": "stderr",
          "output_type": "stream",
          "text": [
            "<ipython-input-56-50640d85f7a0>:1: FutureWarning: The frame.append method is deprecated and will be removed from pandas in a future version. Use pandas.concat instead.\n",
            "  final_df = past_100_days.append(test_df, ignore_index = True)\n"
          ]
        }
      ],
      "source": [
        "final_df = past_100_days.append(test_df, ignore_index = True)"
      ]
    },
    {
      "cell_type": "code",
      "execution_count": 58,
      "id": "L5gFYc1hMRjS",
      "metadata": {
        "colab": {
          "base_uri": "https://localhost:8080/",
          "height": 206
        },
        "id": "L5gFYc1hMRjS",
        "outputId": "384ca741-98e4-4df1-d68f-ee92c82663e2"
      },
      "outputs": [
        {
          "data": {
            "text/html": [
              "\n",
              "  <div id=\"df-f1701025-66d4-4aaf-86a9-2272b440deb0\">\n",
              "    <div class=\"colab-df-container\">\n",
              "      <div>\n",
              "<style scoped>\n",
              "    .dataframe tbody tr th:only-of-type {\n",
              "        vertical-align: middle;\n",
              "    }\n",
              "\n",
              "    .dataframe tbody tr th {\n",
              "        vertical-align: top;\n",
              "    }\n",
              "\n",
              "    .dataframe thead th {\n",
              "        text-align: right;\n",
              "    }\n",
              "</style>\n",
              "<table border=\"1\" class=\"dataframe\">\n",
              "  <thead>\n",
              "    <tr style=\"text-align: right;\">\n",
              "      <th></th>\n",
              "      <th>0</th>\n",
              "    </tr>\n",
              "  </thead>\n",
              "  <tbody>\n",
              "    <tr>\n",
              "      <th>0</th>\n",
              "      <td>81.279999</td>\n",
              "    </tr>\n",
              "    <tr>\n",
              "      <th>1</th>\n",
              "      <td>80.580002</td>\n",
              "    </tr>\n",
              "    <tr>\n",
              "      <th>2</th>\n",
              "      <td>82.875000</td>\n",
              "    </tr>\n",
              "    <tr>\n",
              "      <th>3</th>\n",
              "      <td>83.364998</td>\n",
              "    </tr>\n",
              "    <tr>\n",
              "      <th>4</th>\n",
              "      <td>85.997498</td>\n",
              "    </tr>\n",
              "  </tbody>\n",
              "</table>\n",
              "</div>\n",
              "      <button class=\"colab-df-convert\" onclick=\"convertToInteractive('df-f1701025-66d4-4aaf-86a9-2272b440deb0')\"\n",
              "              title=\"Convert this dataframe to an interactive table.\"\n",
              "              style=\"display:none;\">\n",
              "        \n",
              "  <svg xmlns=\"http://www.w3.org/2000/svg\" height=\"24px\"viewBox=\"0 0 24 24\"\n",
              "       width=\"24px\">\n",
              "    <path d=\"M0 0h24v24H0V0z\" fill=\"none\"/>\n",
              "    <path d=\"M18.56 5.44l.94 2.06.94-2.06 2.06-.94-2.06-.94-.94-2.06-.94 2.06-2.06.94zm-11 1L8.5 8.5l.94-2.06 2.06-.94-2.06-.94L8.5 2.5l-.94 2.06-2.06.94zm10 10l.94 2.06.94-2.06 2.06-.94-2.06-.94-.94-2.06-.94 2.06-2.06.94z\"/><path d=\"M17.41 7.96l-1.37-1.37c-.4-.4-.92-.59-1.43-.59-.52 0-1.04.2-1.43.59L10.3 9.45l-7.72 7.72c-.78.78-.78 2.05 0 2.83L4 21.41c.39.39.9.59 1.41.59.51 0 1.02-.2 1.41-.59l7.78-7.78 2.81-2.81c.8-.78.8-2.07 0-2.86zM5.41 20L4 18.59l7.72-7.72 1.47 1.35L5.41 20z\"/>\n",
              "  </svg>\n",
              "      </button>\n",
              "      \n",
              "  <style>\n",
              "    .colab-df-container {\n",
              "      display:flex;\n",
              "      flex-wrap:wrap;\n",
              "      gap: 12px;\n",
              "    }\n",
              "\n",
              "    .colab-df-convert {\n",
              "      background-color: #E8F0FE;\n",
              "      border: none;\n",
              "      border-radius: 50%;\n",
              "      cursor: pointer;\n",
              "      display: none;\n",
              "      fill: #1967D2;\n",
              "      height: 32px;\n",
              "      padding: 0 0 0 0;\n",
              "      width: 32px;\n",
              "    }\n",
              "\n",
              "    .colab-df-convert:hover {\n",
              "      background-color: #E2EBFA;\n",
              "      box-shadow: 0px 1px 2px rgba(60, 64, 67, 0.3), 0px 1px 3px 1px rgba(60, 64, 67, 0.15);\n",
              "      fill: #174EA6;\n",
              "    }\n",
              "\n",
              "    [theme=dark] .colab-df-convert {\n",
              "      background-color: #3B4455;\n",
              "      fill: #D2E3FC;\n",
              "    }\n",
              "\n",
              "    [theme=dark] .colab-df-convert:hover {\n",
              "      background-color: #434B5C;\n",
              "      box-shadow: 0px 1px 3px 1px rgba(0, 0, 0, 0.15);\n",
              "      filter: drop-shadow(0px 1px 2px rgba(0, 0, 0, 0.3));\n",
              "      fill: #FFFFFF;\n",
              "    }\n",
              "  </style>\n",
              "\n",
              "      <script>\n",
              "        const buttonEl =\n",
              "          document.querySelector('#df-f1701025-66d4-4aaf-86a9-2272b440deb0 button.colab-df-convert');\n",
              "        buttonEl.style.display =\n",
              "          google.colab.kernel.accessAllowed ? 'block' : 'none';\n",
              "\n",
              "        async function convertToInteractive(key) {\n",
              "          const element = document.querySelector('#df-f1701025-66d4-4aaf-86a9-2272b440deb0');\n",
              "          const dataTable =\n",
              "            await google.colab.kernel.invokeFunction('convertToInteractive',\n",
              "                                                     [key], {});\n",
              "          if (!dataTable) return;\n",
              "\n",
              "          const docLinkHtml = 'Like what you see? Visit the ' +\n",
              "            '<a target=\"_blank\" href=https://colab.research.google.com/notebooks/data_table.ipynb>data table notebook</a>'\n",
              "            + ' to learn more about interactive tables.';\n",
              "          element.innerHTML = '';\n",
              "          dataTable['output_type'] = 'display_data';\n",
              "          await google.colab.output.renderOutput(dataTable, element);\n",
              "          const docLink = document.createElement('div');\n",
              "          docLink.innerHTML = docLinkHtml;\n",
              "          element.appendChild(docLink);\n",
              "        }\n",
              "      </script>\n",
              "    </div>\n",
              "  </div>\n",
              "  "
            ],
            "text/plain": [
              "           0\n",
              "0  81.279999\n",
              "1  80.580002\n",
              "2  82.875000\n",
              "3  83.364998\n",
              "4  85.997498"
            ]
          },
          "execution_count": 58,
          "metadata": {},
          "output_type": "execute_result"
        }
      ],
      "source": [
        "final_df.head()"
      ]
    },
    {
      "cell_type": "code",
      "execution_count": null,
      "id": "BU7BPmzvMZpZ",
      "metadata": {
        "id": "BU7BPmzvMZpZ"
      },
      "outputs": [],
      "source": [
        "input_data = scaler.fit_transform(final_df)\n",
        "input_data"
      ]
    },
    {
      "cell_type": "code",
      "execution_count": 60,
      "id": "2E6k84TtMpvD",
      "metadata": {
        "colab": {
          "base_uri": "https://localhost:8080/"
        },
        "id": "2E6k84TtMpvD",
        "outputId": "01e58a86-5d69-4a6c-9c0b-24a295bf6489"
      },
      "outputs": [
        {
          "data": {
            "text/plain": [
              "(727, 1)"
            ]
          },
          "execution_count": 60,
          "metadata": {},
          "output_type": "execute_result"
        }
      ],
      "source": [
        "input_data.shape"
      ]
    },
    {
      "cell_type": "markdown",
      "id": "hJzkNc_To9li",
      "metadata": {
        "id": "hJzkNc_To9li"
      },
      "source": [
        "# Testing the model\n",
        "\n",
        "---\n",
        "\n"
      ]
    },
    {
      "cell_type": "code",
      "execution_count": 62,
      "id": "d9xCof1CMwwh",
      "metadata": {
        "id": "d9xCof1CMwwh"
      },
      "outputs": [],
      "source": [
        "x_test = []\n",
        "y_test = []\n",
        "for i in range(100, input_data.shape[0]):\n",
        "   x_test.append(input_data[i-100: i])\n",
        "   y_test.append(input_data[i, 0])"
      ]
    },
    {
      "cell_type": "code",
      "execution_count": 64,
      "id": "6MGDYZvrNUYc",
      "metadata": {
        "colab": {
          "base_uri": "https://localhost:8080/"
        },
        "id": "6MGDYZvrNUYc",
        "outputId": "edc06c42-97d9-49ab-db6f-4054bcf10f9a"
      },
      "outputs": [
        {
          "name": "stdout",
          "output_type": "stream",
          "text": [
            "(627, 100, 1)\n",
            "(627,)\n"
          ]
        }
      ],
      "source": [
        "x_test, y_test = np.array(x_test), np.array(y_test)\n",
        "print(x_test.shape)\n",
        "print(y_test.shape)"
      ]
    },
    {
      "cell_type": "markdown",
      "id": "PjvHSsrYpFBG",
      "metadata": {
        "id": "PjvHSsrYpFBG"
      },
      "source": [
        "# Making prediction and plotting the graph of predicted vs actual values\n",
        "\n",
        "---\n",
        "\n"
      ]
    },
    {
      "cell_type": "code",
      "execution_count": 28,
      "id": "GLMExu7NNdmA",
      "metadata": {
        "colab": {
          "base_uri": "https://localhost:8080/"
        },
        "id": "GLMExu7NNdmA",
        "outputId": "8038aa60-ecfb-4222-e8ad-edfc8f6c24a1"
      },
      "outputs": [
        {
          "ename": "NameError",
          "evalue": "name 'x_test' is not defined",
          "output_type": "error",
          "traceback": [
            "\u001b[1;31m---------------------------------------------------------------------------\u001b[0m",
            "\u001b[1;31mNameError\u001b[0m                                 Traceback (most recent call last)",
            "Cell \u001b[1;32mIn[28], line 3\u001b[0m\n\u001b[0;32m      1\u001b[0m \u001b[38;5;66;03m# Making predictions\u001b[39;00m\n\u001b[1;32m----> 3\u001b[0m y_pred \u001b[38;5;241m=\u001b[39m model\u001b[38;5;241m.\u001b[39mpredict(\u001b[43mx_test\u001b[49m)\n",
            "\u001b[1;31mNameError\u001b[0m: name 'x_test' is not defined"
          ]
        }
      ],
      "source": [
        "# Making predictions\n",
        "\n",
        "y_pred = model.predict(x_test)"
      ]
    },
    {
      "cell_type": "code",
      "execution_count": 66,
      "id": "wAmVS__yNu-A",
      "metadata": {
        "colab": {
          "base_uri": "https://localhost:8080/"
        },
        "id": "wAmVS__yNu-A",
        "outputId": "0bccada4-46f7-4a77-8eb9-6b46fcab85f8"
      },
      "outputs": [
        {
          "data": {
            "text/plain": [
              "(627, 1)"
            ]
          },
          "execution_count": 66,
          "metadata": {},
          "output_type": "execute_result"
        }
      ],
      "source": [
        "y_pred.shape"
      ]
    },
    {
      "cell_type": "code",
      "execution_count": 67,
      "id": "HFhTH-1aNyqt",
      "metadata": {
        "colab": {
          "base_uri": "https://localhost:8080/"
        },
        "id": "HFhTH-1aNyqt",
        "outputId": "28aac7e4-150f-4898-e81c-abf243c9b01c"
      },
      "outputs": [
        {
          "data": {
            "text/plain": [
              "array([0.33974171, 0.33984032, 0.35512175, 0.30188305, 0.34250222,\n",
              "       0.27881298, 0.27792563, 0.29439025, 0.33885436, 0.37907917,\n",
              "       0.37572714, 0.35236124, 0.3489106 , 0.3836143 , 0.38085379,\n",
              "       0.38134677, 0.39160016, 0.38262842, 0.36922015, 0.37523415,\n",
              "       0.3624174 , 0.32800946, 0.34102335, 0.34950211, 0.35502314,\n",
              "       0.37927639, 0.41545896, 0.41900821, 0.41762796, 0.41082521,\n",
              "       0.42561374, 0.43182489, 0.40619146, 0.42058562, 0.41240269,\n",
              "       0.40619146, 0.46633145, 0.46564132, 0.47441584, 0.45430351,\n",
              "       0.46978209, 0.50576759, 0.49669731, 0.50665487, 0.55318944,\n",
              "       0.53524595, 0.52390815, 0.51375337, 0.48141581, 0.49719014,\n",
              "       0.45371192, 0.49630287, 0.50744361, 0.47717635, 0.4754018 ,\n",
              "       0.49600711, 0.4764863 , 0.4590358 , 0.46583854, 0.50724638,\n",
              "       0.55496399, 0.57665395, 0.61461107, 0.61697729, 0.60613231,\n",
              "       0.55713298, 0.50655633, 0.52804891, 0.53642914, 0.52607714,\n",
              "       0.56009072, 0.55387949, 0.55535843, 0.54648523, 0.54037269,\n",
              "       0.5378094 , 0.54017546, 0.51868288, 0.49551413, 0.48437354,\n",
              "       0.48595087, 0.44779652, 0.44641627, 0.44138815, 0.39840283,\n",
              "       0.40106481, 0.46544417, 0.43912062, 0.40895197, 0.38992407,\n",
              "       0.40264221, 0.35275561, 0.39938872, 0.38844528, 0.40796609,\n",
              "       0.3987972 , 0.42797988, 0.44355714, 0.43557136, 0.39386769,\n",
              "       0.38854381, 0.42206448, 0.41368434, 0.3895297 , 0.39445921,\n",
              "       0.40057182, 0.40234645, 0.38765654, 0.40983932, 0.41821947,\n",
              "       0.44681064, 0.44986691, 0.46652867, 0.49078184, 0.51680964,\n",
              "       0.49945783, 0.53090796, 0.50724638, 0.53159817, 0.52824614,\n",
              "       0.5349502 , 0.51789414, 0.52173915, 0.50635911, 0.52982362,\n",
              "       0.53376716, 0.53051367, 0.52252789, 0.52154193, 0.50162682,\n",
              "       0.51227443, 0.46603569, 0.46850052, 0.4846693 , 0.48930305,\n",
              "       0.45617667, 0.44690925, 0.41595187, 0.43764175, 0.46209207,\n",
              "       0.45045843, 0.43645864, 0.43488124, 0.46071181, 0.44217689,\n",
              "       0.45864143, 0.45666965, 0.45617667, 0.44069802, 0.4340925 ,\n",
              "       0.430839  , 0.43852902, 0.42354335, 0.44671203, 0.44681064,\n",
              "       0.45509218, 0.45893719, 0.44888102, 0.46110618, 0.49196488,\n",
              "       0.48368334, 0.48871138, 0.50488017, 0.49176781, 0.50990836,\n",
              "       0.52647144, 0.52371092, 0.52085187, 0.51789414, 0.53435868,\n",
              "       0.54964019, 0.55585141, 0.55890769, 0.58542846, 0.60573802,\n",
              "       0.63087854, 0.61776603, 0.63620234, 0.63018833, 0.64142761,\n",
              "       0.6760327 , 0.66942718, 0.64882187, 0.60997732, 0.64645565,\n",
              "       0.63906139, 0.6528641 , 0.67021592, 0.67445537, 0.65256834,\n",
              "       0.63492062, 0.64142761, 0.6435966 , 0.64024457, 0.65838513,\n",
              "       0.6543429 , 0.65542739, 0.64635712, 0.64586414, 0.64103331,\n",
              "       0.6435966 , 0.67346941, 0.67553987, 0.69545498, 0.68628616,\n",
              "       0.64852611, 0.65187814, 0.66656813, 0.68155388, 0.68066645,\n",
              "       0.66824415, 0.66015968, 0.67061036, 0.71517301, 0.70245495,\n",
              "       0.709159  , 0.72039828, 0.72680673, 0.75036977, 0.73479251,\n",
              "       0.7245392 , 0.67425815, 0.6799764 , 0.66587793, 0.67484967,\n",
              "       0.67248345, 0.64556838, 0.61480829, 0.61963911, 0.64349807,\n",
              "       0.65315986, 0.65404714, 0.63876563, 0.60465352, 0.61372379,\n",
              "       0.60061128, 0.61194909, 0.577344  , 0.59676627, 0.60554079,\n",
              "       0.61825886, 0.61441385, 0.61352657, 0.60070982, 0.5947945 ,\n",
              "       0.62289261, 0.63354036, 0.65039935, 0.67218769, 0.6771172 ,\n",
              "       0.6792862 , 0.67149764, 0.67100466, 0.67770887, 0.67307512,\n",
              "       0.70975067, 0.68244115, 0.67415962, 0.68461015, 0.69910292,\n",
              "       0.69387765, 0.69703246, 0.68875092, 0.69239871, 0.66390615,\n",
              "       0.66341317, 0.68431439, 0.68441293, 0.69427194, 0.71882095,\n",
              "       0.76200334, 0.78842558, 0.79305933, 0.79690434, 0.80212961,\n",
              "       0.75155281, 0.78536931, 0.83525591, 0.83003065, 0.82007294,\n",
              "       0.80114365, 0.83545314, 0.89322683, 0.93167709, 0.92655036,\n",
              "       0.97476094, 0.93818407, 0.92428282, 0.97328215, 0.90387459,\n",
              "       0.89283254, 0.87912851, 0.91107178, 0.93719811, 0.94350788,\n",
              "       0.98343692, 0.97318346, 0.97407089, 0.96243717, 0.95622609,\n",
              "       1.        , 0.9772257 , 0.93009961, 0.9013113 , 0.90298731,\n",
              "       0.90318453, 0.93167709, 0.93611361, 0.90318453, 0.91186052,\n",
              "       0.87962149, 0.84442473, 0.82746721, 0.80676336, 0.79897465,\n",
              "       0.7808341 , 0.77994682, 0.77531307, 0.88484676, 0.92871935,\n",
              "       0.92704334, 0.93916988, 0.91018435, 0.90515631, 0.89795927,\n",
              "       0.92921233, 0.94350788, 0.90249433, 0.86818499, 0.87055121,\n",
              "       0.90909985, 0.90673379, 0.87055121, 0.85497395, 0.82559412,\n",
              "       0.7836933 , 0.81001685, 0.83081939, 0.83348121, 0.81455192,\n",
              "       0.84767822, 0.84442473, 0.81425616, 0.77610181, 0.75776404,\n",
              "       0.81208716, 0.76841179, 0.73104603, 0.69052547, 0.73459529,\n",
              "       0.77896086, 0.78911564, 0.82224194, 0.83604465, 0.8699597 ,\n",
              "       0.88366372, 0.92171953, 0.92812783, 0.93680382, 0.96993012,\n",
              "       0.95819787, 0.92704334, 0.9240856 , 0.96480339, 0.93147986,\n",
              "       0.89963528, 0.90269155, 0.88248054, 0.83969244, 0.8585232 ,\n",
              "       0.88553681, 0.83515723, 0.83298838, 0.85595976, 0.85428374,\n",
              "       0.84629796, 0.80065067, 0.81139711, 0.75145427, 0.74918674,\n",
              "       0.81888991, 0.75983435, 0.76289077, 0.77787636, 0.84235442,\n",
              "       0.75115851, 0.75618656, 0.70472248, 0.72887704, 0.64990637,\n",
              "       0.61106182, 0.65592037, 0.64044165, 0.67692013, 0.59390723,\n",
              "       0.55969642, 0.56206249, 0.61648431, 0.58937201, 0.59094949,\n",
              "       0.62308983, 0.68086367, 0.67297643, 0.67169486, 0.6963424 ,\n",
              "       0.63886432, 0.64635712, 0.67169486, 0.6643006 , 0.61185056,\n",
              "       0.55752743, 0.50576759, 0.51444342, 0.54076698, 0.48782411,\n",
              "       0.50261263, 0.54510497, 0.53997839, 0.5687667 , 0.60218876,\n",
              "       0.60218876, 0.5605837 , 0.57823127, 0.5534852 , 0.57527354,\n",
              "       0.6012028 , 0.61461107, 0.64842758, 0.65523017, 0.63383612,\n",
              "       0.6435966 , 0.63994882, 0.66932864, 0.68608894, 0.65552608,\n",
              "       0.69427194, 0.71438427, 0.73715873, 0.72473627, 0.713497  ,\n",
              "       0.70018741, 0.75135558, 0.75687676, 0.80774917, 0.79789016,\n",
              "       0.78310163, 0.84343892, 0.84028396, 0.83574889, 0.83101646,\n",
              "       0.83150944, 0.87410046, 0.8667062 , 0.90229726, 0.91304355,\n",
              "       0.91146607, 0.92645182, 0.92250812, 0.89657901, 0.85763592,\n",
              "       0.85428374, 0.85724148, 0.88188902, 0.81869269, 0.79660859,\n",
              "       0.7722568 , 0.75559504, 0.76289077, 0.74169379, 0.72907426,\n",
              "       0.74317273, 0.72838421, 0.75707383, 0.81681945, 0.72227152,\n",
              "       0.73676428, 0.70777875, 0.69131421, 0.72858128, 0.75244008,\n",
              "       0.72108848, 0.71142669, 0.68865223, 0.69200441, 0.70176474,\n",
              "       0.68283545, 0.61027308, 0.5680765 , 0.60997732, 0.64596282,\n",
              "       0.64892041, 0.63935715, 0.58671003, 0.58996353, 0.57576652,\n",
              "       0.56945676, 0.61530127, 0.5698512 , 0.60958303, 0.62279407,\n",
              "       0.62387857, 0.61924482, 0.65749785, 0.67899044, 0.70748299,\n",
              "       0.67800463, 0.63314607, 0.74100374, 0.71734201, 0.69082123,\n",
              "       0.6354136 , 0.57478071, 0.5698512 , 0.575175  , 0.58089325,\n",
              "       0.53524595, 0.65355416, 0.68145519, 0.66745541, 0.68480722,\n",
              "       0.67248345, 0.69151143, 0.69713099, 0.66479343, 0.68618748,\n",
              "       0.69496215, 0.66577939, 0.62742782, 0.59735779, 0.66499065,\n",
              "       0.66775116, 0.66282166, 0.65118809, 0.61451253, 0.59509026,\n",
              "       0.61194909, 0.60711827, 0.6300898 , 0.63975159, 0.61747027,\n",
              "       0.5513162 , 0.5316967 , 0.51059841, 0.50990836, 0.5409642 ,\n",
              "       0.50921816, 0.50557037, 0.48752835, 0.44819089, 0.48338758,\n",
              "       0.48654239, 0.43862764, 0.45134578, 0.43813465, 0.48348612,\n",
              "       0.48871138, 0.49442963, 0.52164061, 0.52085187, 0.53416146,\n",
              "       0.54579518, 0.53859813, 0.53918965, 0.56482301, 0.59676627,\n",
              "       0.61076606, 0.60416054, 0.62486453, 0.64428666, 0.61539981,\n",
              "       0.62811787, 0.63935715, 0.69249739, 0.7287785 , 0.70146898,\n",
              "       0.73025729, 0.70334222, 0.69299022, 0.69437048, 0.7223702 ,\n",
              "       0.71596175, 0.7369615 , 0.72098995, 0.70955345, 0.66942718,\n",
              "       0.67366663, 0.67849746, 0.65197683, 0.66390615, 0.65887811,\n",
              "       0.63817411, 0.64408958, 0.6945677 , 0.72217298, 0.70018741,\n",
              "       0.71270826, 0.69022971, 0.6696244 , 0.68904668, 0.70994774,\n",
              "       0.71389144, 0.74208824, 0.73370801, 0.75736959, 0.77590459,\n",
              "       0.76160905, 0.77245387, 0.78546785, 0.76604557, 0.75983435,\n",
              "       0.79059458, 0.80627038, 0.83131222, 0.84383321, 0.83850941,\n",
              "       0.82007294, 0.82894615, 0.80301689, 0.79089034, 0.78398906,\n",
              "       0.8378192 , 0.83436864, 0.83456571, 0.84679095, 0.85822744,\n",
              "       0.8485655 , 0.8324954 ])"
            ]
          },
          "execution_count": 67,
          "metadata": {},
          "output_type": "execute_result"
        }
      ],
      "source": [
        "y_test"
      ]
    },
    {
      "cell_type": "code",
      "execution_count": null,
      "id": "WDIHSvbHN1vk",
      "metadata": {
        "id": "WDIHSvbHN1vk"
      },
      "outputs": [],
      "source": [
        "y_pred"
      ]
    },
    {
      "cell_type": "code",
      "execution_count": 69,
      "id": "QMFgAgL5N6HX",
      "metadata": {
        "colab": {
          "base_uri": "https://localhost:8080/"
        },
        "id": "QMFgAgL5N6HX",
        "outputId": "0f80a24c-a3bb-4ea1-8566-e0ac9f6a7c16"
      },
      "outputs": [
        {
          "data": {
            "text/plain": [
              "array([0.00985902])"
            ]
          },
          "execution_count": 69,
          "metadata": {},
          "output_type": "execute_result"
        }
      ],
      "source": [
        "scaler.scale_"
      ]
    },
    {
      "cell_type": "code",
      "execution_count": 70,
      "id": "tPcp9BKLN-Y8",
      "metadata": {
        "id": "tPcp9BKLN-Y8"
      },
      "outputs": [],
      "source": [
        "scale_factor = 1/0.00985902\n",
        "y_pred = y_pred * scale_factor\n",
        "y_test = y_test * scale_factor"
      ]
    },
    {
      "cell_type": "code",
      "execution_count": 71,
      "id": "phumyMZUOPp_",
      "metadata": {
        "colab": {
          "base_uri": "https://localhost:8080/",
          "height": 542
        },
        "id": "phumyMZUOPp_",
        "outputId": "97c097f5-425b-4b78-c16e-83c45eb6514b"
      },
      "outputs": [
        {
          "data": {
            "image/png": "[encoded data removed]",
            "text/plain": [
              "<Figure size 1200x600 with 1 Axes>"
            ]
          },
          "metadata": {},
          "output_type": "display_data"
        }
      ],
      "source": [
        "plt.figure(figsize = (12,6))\n",
        "plt.plot(y_test, 'b', label = \"Original Price\")\n",
        "plt.plot(y_pred, 'r', label = \"Predicted Price\")\n",
        "plt.xlabel('Time')\n",
        "plt.ylabel('Price')\n",
        "plt.legend()\n",
        "plt.show()"
      ]
    },
    {
      "cell_type": "markdown",
      "id": "m54ljCJrpShP",
      "metadata": {
        "id": "m54ljCJrpShP"
      },
      "source": [
        "# Model evaluation"
      ]
    },
    {
      "cell_type": "code",
      "execution_count": 76,
      "id": "Yx6JWOKcX3Yo",
      "metadata": {
        "colab": {
          "base_uri": "https://localhost:8080/"
        },
        "id": "Yx6JWOKcX3Yo",
        "outputId": "60556eef-f2e1-45f6-c9f1-533107e2070a"
      },
      "outputs": [
        {
          "name": "stdout",
          "output_type": "stream",
          "text": [
            "Mean absolute error on test set:  4.542532119013522\n"
          ]
        }
      ],
      "source": [
        "from sklearn.metrics import mean_absolute_error\n",
        "mae = mean_absolute_error(y_test, y_pred)\n",
        "print(\"Mean absolute error on test set: \", mae)"
      ]
    }
  ],
  "metadata": {
    "accelerator": "GPU",
    "colab": {
      "include_colab_link": true,
      "provenance": []
    },
    "gpuClass": "standard",
    "kernelspec": {
      "display_name": "Python 3 (ipykernel)",
      "language": "python",
      "name": "python3"
    },
    "language_info": {
      "codemirror_mode": {
        "name": "ipython",
        "version": 3
      },
      "file_extension": ".py",
      "mimetype": "text/x-python",
      "name": "python",
      "nbconvert_exporter": "python",
      "pygments_lexer": "ipython3",
      "version": "3.10.9"
    }
  },
  "nbformat": 4,
  "nbformat_minor": 5
}
